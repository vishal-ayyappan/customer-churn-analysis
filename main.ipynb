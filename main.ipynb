{
 "cells": [
  {
   "cell_type": "code",
   "execution_count": 1,
   "id": "6cc5e2db",
   "metadata": {},
   "outputs": [],
   "source": [
    "import numpy as np\n",
    "import pandas as pd\n",
    "import matplotlib.pyplot as plt\n",
    "import seaborn as sns\n",
    "\n",
    "#Styling the plots\n",
    "sns.set_style('whitegrid')\n",
    "\n",
    "#Loading the csv\n",
    "df = pd.read_csv('WA_Fn-UseC_-Telco-Customer-Churn.csv')"
   ]
  },
  {
   "cell_type": "code",
   "execution_count": 2,
   "id": "ad65f715",
   "metadata": {},
   "outputs": [
    {
     "name": "stdout",
     "output_type": "stream",
     "text": [
      "   customerID  gender  SeniorCitizen Partner Dependents  tenure PhoneService  \\\n",
      "0  7590-VHVEG  Female              0     Yes         No       1           No   \n",
      "1  5575-GNVDE    Male              0      No         No      34          Yes   \n",
      "2  3668-QPYBK    Male              0      No         No       2          Yes   \n",
      "3  7795-CFOCW    Male              0      No         No      45           No   \n",
      "4  9237-HQITU  Female              0      No         No       2          Yes   \n",
      "\n",
      "      MultipleLines InternetService OnlineSecurity  ... DeviceProtection  \\\n",
      "0  No phone service             DSL             No  ...               No   \n",
      "1                No             DSL            Yes  ...              Yes   \n",
      "2                No             DSL            Yes  ...               No   \n",
      "3  No phone service             DSL            Yes  ...              Yes   \n",
      "4                No     Fiber optic             No  ...               No   \n",
      "\n",
      "  TechSupport StreamingTV StreamingMovies        Contract PaperlessBilling  \\\n",
      "0          No          No              No  Month-to-month              Yes   \n",
      "1          No          No              No        One year               No   \n",
      "2          No          No              No  Month-to-month              Yes   \n",
      "3         Yes          No              No        One year               No   \n",
      "4          No          No              No  Month-to-month              Yes   \n",
      "\n",
      "               PaymentMethod MonthlyCharges  TotalCharges Churn  \n",
      "0           Electronic check          29.85         29.85    No  \n",
      "1               Mailed check          56.95        1889.5    No  \n",
      "2               Mailed check          53.85        108.15   Yes  \n",
      "3  Bank transfer (automatic)          42.30       1840.75    No  \n",
      "4           Electronic check          70.70        151.65   Yes  \n",
      "\n",
      "[5 rows x 21 columns]\n"
     ]
    }
   ],
   "source": [
    "# Displaying the first few rows and info of the dataframe\n",
    "print(df.head())"
   ]
  },
  {
   "cell_type": "code",
   "execution_count": 3,
   "id": "239d2d3e",
   "metadata": {},
   "outputs": [
    {
     "name": "stdout",
     "output_type": "stream",
     "text": [
      "<class 'pandas.core.frame.DataFrame'>\n",
      "RangeIndex: 7043 entries, 0 to 7042\n",
      "Data columns (total 21 columns):\n",
      " #   Column            Non-Null Count  Dtype  \n",
      "---  ------            --------------  -----  \n",
      " 0   customerID        7043 non-null   object \n",
      " 1   gender            7043 non-null   object \n",
      " 2   SeniorCitizen     7043 non-null   int64  \n",
      " 3   Partner           7043 non-null   object \n",
      " 4   Dependents        7043 non-null   object \n",
      " 5   tenure            7043 non-null   int64  \n",
      " 6   PhoneService      7043 non-null   object \n",
      " 7   MultipleLines     7043 non-null   object \n",
      " 8   InternetService   7043 non-null   object \n",
      " 9   OnlineSecurity    7043 non-null   object \n",
      " 10  OnlineBackup      7043 non-null   object \n",
      " 11  DeviceProtection  7043 non-null   object \n",
      " 12  TechSupport       7043 non-null   object \n",
      " 13  StreamingTV       7043 non-null   object \n",
      " 14  StreamingMovies   7043 non-null   object \n",
      " 15  Contract          7043 non-null   object \n",
      " 16  PaperlessBilling  7043 non-null   object \n",
      " 17  PaymentMethod     7043 non-null   object \n",
      " 18  MonthlyCharges    7043 non-null   float64\n",
      " 19  TotalCharges      7043 non-null   object \n",
      " 20  Churn             7043 non-null   object \n",
      "dtypes: float64(1), int64(2), object(18)\n",
      "memory usage: 1.1+ MB\n",
      "None\n"
     ]
    }
   ],
   "source": [
    "#To know the info of the dataframe\n",
    "print(df.info())"
   ]
  },
  {
   "cell_type": "markdown",
   "id": "3cc8f418",
   "metadata": {},
   "source": [
    "*Observations*\n",
    "\n",
    "- We can see that totalCharges is an object and not float64\n",
    "- This is something we have to fix before analyzing the data"
   ]
  },
  {
   "cell_type": "markdown",
   "id": "ce37cf23",
   "metadata": {},
   "source": [
    "***Data Cleaning Process***"
   ]
  },
  {
   "cell_type": "code",
   "execution_count": 4,
   "id": "f970ddae",
   "metadata": {},
   "outputs": [
    {
     "name": "stdout",
     "output_type": "stream",
     "text": [
      "Check for null values in TotalCharges column:\n",
      "11\n"
     ]
    },
    {
     "name": "stderr",
     "output_type": "stream",
     "text": [
      "/tmp/ipykernel_2980/2304158033.py:12: FutureWarning: A value is trying to be set on a copy of a DataFrame or Series through chained assignment using an inplace method.\n",
      "The behavior will change in pandas 3.0. This inplace method will never work because the intermediate object on which we are setting values always behaves as a copy.\n",
      "\n",
      "For example, when doing 'df[col].method(value, inplace=True)', try using 'df.method({col: value}, inplace=True)' or df[col] = df[col].method(value) instead, to perform the operation inplace on the original object.\n",
      "\n",
      "\n",
      "  df['TotalCharges'].fillna(df['TotalCharges'].median(), inplace=True)\n"
     ]
    }
   ],
   "source": [
    "#1/ Converting TotalCharges to numeric\n",
    "\n",
    "#If the values cannot be converted to numeric, coerce will set them to NaN\n",
    "df['TotalCharges'] = pd.to_numeric(df['TotalCharges'], errors='coerce')\n",
    "\n",
    "#Checking for null values\n",
    "print(\"Check for null values in TotalCharges column:\")\n",
    "#Counts how many NaN values are present in TotalCharges\n",
    "print(df['TotalCharges'].isnull().sum())\n",
    "\n",
    "#Filling null values with the median\n",
    "df['TotalCharges'].fillna(df['TotalCharges'].median(), inplace=True)"
   ]
  },
  {
   "cell_type": "code",
   "execution_count": 5,
   "id": "8742b94d",
   "metadata": {},
   "outputs": [
    {
     "name": "stdout",
     "output_type": "stream",
     "text": [
      "\n",
      "Check for any missing values in the dataframe:\n",
      "customerID          0\n",
      "gender              0\n",
      "SeniorCitizen       0\n",
      "Partner             0\n",
      "Dependents          0\n",
      "tenure              0\n",
      "PhoneService        0\n",
      "MultipleLines       0\n",
      "InternetService     0\n",
      "OnlineSecurity      0\n",
      "OnlineBackup        0\n",
      "DeviceProtection    0\n",
      "TechSupport         0\n",
      "StreamingTV         0\n",
      "StreamingMovies     0\n",
      "Contract            0\n",
      "PaperlessBilling    0\n",
      "PaymentMethod       0\n",
      "MonthlyCharges      0\n",
      "TotalCharges        0\n",
      "Churn               0\n",
      "dtype: int64\n"
     ]
    }
   ],
   "source": [
    "#2/ Check if there is any missing values.\n",
    "\n",
    "print(\"\\nCheck for any missing values in the dataframe:\")\n",
    "print(df.isnull().sum())"
   ]
  },
  {
   "cell_type": "code",
   "execution_count": 6,
   "id": "da1f2da3",
   "metadata": {},
   "outputs": [
    {
     "name": "stdout",
     "output_type": "stream",
     "text": [
      "\n",
      "Unique values in column 'customerID':\n",
      "customerID\n",
      "7590-VHVEG    1\n",
      "5575-GNVDE    1\n",
      "3668-QPYBK    1\n",
      "7795-CFOCW    1\n",
      "9237-HQITU    1\n",
      "             ..\n",
      "6840-RESVB    1\n",
      "2234-XADUH    1\n",
      "4801-JZAZL    1\n",
      "8361-LTMKD    1\n",
      "3186-AJIEK    1\n",
      "Name: count, Length: 7043, dtype: int64\n",
      "\n",
      "Unique values in column 'gender':\n",
      "gender\n",
      "Male      3555\n",
      "Female    3488\n",
      "Name: count, dtype: int64\n",
      "\n",
      "Unique values in column 'Partner':\n",
      "Partner\n",
      "No     3641\n",
      "Yes    3402\n",
      "Name: count, dtype: int64\n",
      "\n",
      "Unique values in column 'Dependents':\n",
      "Dependents\n",
      "No     4933\n",
      "Yes    2110\n",
      "Name: count, dtype: int64\n",
      "\n",
      "Unique values in column 'PhoneService':\n",
      "PhoneService\n",
      "Yes    6361\n",
      "No      682\n",
      "Name: count, dtype: int64\n",
      "\n",
      "Unique values in column 'MultipleLines':\n",
      "MultipleLines\n",
      "No                  3390\n",
      "Yes                 2971\n",
      "No phone service     682\n",
      "Name: count, dtype: int64\n",
      "\n",
      "Unique values in column 'InternetService':\n",
      "InternetService\n",
      "Fiber optic    3096\n",
      "DSL            2421\n",
      "No             1526\n",
      "Name: count, dtype: int64\n",
      "\n",
      "Unique values in column 'OnlineSecurity':\n",
      "OnlineSecurity\n",
      "No                     3498\n",
      "Yes                    2019\n",
      "No internet service    1526\n",
      "Name: count, dtype: int64\n",
      "\n",
      "Unique values in column 'OnlineBackup':\n",
      "OnlineBackup\n",
      "No                     3088\n",
      "Yes                    2429\n",
      "No internet service    1526\n",
      "Name: count, dtype: int64\n",
      "\n",
      "Unique values in column 'DeviceProtection':\n",
      "DeviceProtection\n",
      "No                     3095\n",
      "Yes                    2422\n",
      "No internet service    1526\n",
      "Name: count, dtype: int64\n",
      "\n",
      "Unique values in column 'TechSupport':\n",
      "TechSupport\n",
      "No                     3473\n",
      "Yes                    2044\n",
      "No internet service    1526\n",
      "Name: count, dtype: int64\n",
      "\n",
      "Unique values in column 'StreamingTV':\n",
      "StreamingTV\n",
      "No                     2810\n",
      "Yes                    2707\n",
      "No internet service    1526\n",
      "Name: count, dtype: int64\n",
      "\n",
      "Unique values in column 'StreamingMovies':\n",
      "StreamingMovies\n",
      "No                     2785\n",
      "Yes                    2732\n",
      "No internet service    1526\n",
      "Name: count, dtype: int64\n",
      "\n",
      "Unique values in column 'Contract':\n",
      "Contract\n",
      "Month-to-month    3875\n",
      "Two year          1695\n",
      "One year          1473\n",
      "Name: count, dtype: int64\n",
      "\n",
      "Unique values in column 'PaperlessBilling':\n",
      "PaperlessBilling\n",
      "Yes    4171\n",
      "No     2872\n",
      "Name: count, dtype: int64\n",
      "\n",
      "Unique values in column 'PaymentMethod':\n",
      "PaymentMethod\n",
      "Electronic check             2365\n",
      "Mailed check                 1612\n",
      "Bank transfer (automatic)    1544\n",
      "Credit card (automatic)      1522\n",
      "Name: count, dtype: int64\n",
      "\n",
      "Unique values in column 'Churn':\n",
      "Churn\n",
      "No     5174\n",
      "Yes    1869\n",
      "Name: count, dtype: int64\n"
     ]
    }
   ],
   "source": [
    "#3/ Data Cleaning in categorical columns\n",
    "\n",
    "# Get all the categorical columns\n",
    "categorical_columns = df.select_dtypes(include=['object']).columns\n",
    "# Display unique values in each categorical column\n",
    "for col in categorical_columns:\n",
    "    print(f\"\\nUnique values in column '{col}':\")\n",
    "    print(df[col].value_counts())"
   ]
  },
  {
   "cell_type": "markdown",
   "id": "3b2d7580",
   "metadata": {},
   "source": [
    "*Observations*\n",
    "\n",
    "- This is just a check to ensure that we do not have unique values that have the same meaning. This problem exists in a most of the datasets, but in this case all the categorical column values are unique."
   ]
  },
  {
   "cell_type": "code",
   "execution_count": 7,
   "id": "1f2dc332",
   "metadata": {},
   "outputs": [
    {
     "name": "stdout",
     "output_type": "stream",
     "text": [
      "\n",
      "Statistical summary of column 'SeniorCitizen':\n",
      "count    7043.000000\n",
      "mean        0.162147\n",
      "std         0.368612\n",
      "min         0.000000\n",
      "25%         0.000000\n",
      "50%         0.000000\n",
      "75%         0.000000\n",
      "max         1.000000\n",
      "Name: SeniorCitizen, dtype: float64\n",
      "\n",
      "Statistical summary of column 'tenure':\n",
      "count    7043.000000\n",
      "mean       32.371149\n",
      "std        24.559481\n",
      "min         0.000000\n",
      "25%         9.000000\n",
      "50%        29.000000\n",
      "75%        55.000000\n",
      "max        72.000000\n",
      "Name: tenure, dtype: float64\n",
      "\n",
      "Statistical summary of column 'MonthlyCharges':\n",
      "count    7043.000000\n",
      "mean       64.761692\n",
      "std        30.090047\n",
      "min        18.250000\n",
      "25%        35.500000\n",
      "50%        70.350000\n",
      "75%        89.850000\n",
      "max       118.750000\n",
      "Name: MonthlyCharges, dtype: float64\n",
      "\n",
      "Statistical summary of column 'TotalCharges':\n",
      "count    7043.000000\n",
      "mean     2281.916928\n",
      "std      2265.270398\n",
      "min        18.800000\n",
      "25%       402.225000\n",
      "50%      1397.475000\n",
      "75%      3786.600000\n",
      "max      8684.800000\n",
      "Name: TotalCharges, dtype: float64\n"
     ]
    }
   ],
   "source": [
    "#4 Data cleaning in numerical columns\n",
    "\n",
    "numerical_columns = df.select_dtypes(include=['int64', 'float64']).columns\n",
    "for col in numerical_columns:\n",
    "    print(f\"\\nStatistical summary of column '{col}':\")\n",
    "    print(df[col].describe())"
   ]
  },
  {
   "cell_type": "markdown",
   "id": "d7d06984",
   "metadata": {},
   "source": [
    "*Observations*\n",
    "\n",
    "- Here, 'Monthly Charges' and 'tenure' should be non negative values. \n",
    "- In this dataset, the values of the above 2 columns are correct, so it is a clean dataset. \n",
    "- Decide the range of the numerical columns based on prior info about that aspect and clean it accordingly."
   ]
  },
  {
   "cell_type": "markdown",
   "id": "241e0ed0",
   "metadata": {},
   "source": [
    "***Feature Engineering Process***"
   ]
  },
  {
   "cell_type": "code",
   "execution_count": 8,
   "id": "f0fd9af5",
   "metadata": {},
   "outputs": [
    {
     "name": "stdout",
     "output_type": "stream",
     "text": [
      "--- Data after one-hot encoding ---\n",
      "   SeniorCitizen  tenure  MonthlyCharges  TotalCharges  Churn  \\\n",
      "0              0       1           29.85         29.85      0   \n",
      "1              0      34           56.95       1889.50      0   \n",
      "2              0       2           53.85        108.15      1   \n",
      "3              0      45           42.30       1840.75      0   \n",
      "4              0       2           70.70        151.65      1   \n",
      "\n",
      "   customerID_0003-MKNFE  customerID_0004-TLHLJ  customerID_0011-IGKFF  \\\n",
      "0                      0                      0                      0   \n",
      "1                      0                      0                      0   \n",
      "2                      0                      0                      0   \n",
      "3                      0                      0                      0   \n",
      "4                      0                      0                      0   \n",
      "\n",
      "   customerID_0013-EXCHZ  customerID_0013-MHZWF  ...  \\\n",
      "0                      0                      0  ...   \n",
      "1                      0                      0  ...   \n",
      "2                      0                      0  ...   \n",
      "3                      0                      0  ...   \n",
      "4                      0                      0  ...   \n",
      "\n",
      "   StreamingTV_No internet service  StreamingTV_Yes  \\\n",
      "0                                0                0   \n",
      "1                                0                0   \n",
      "2                                0                0   \n",
      "3                                0                0   \n",
      "4                                0                0   \n",
      "\n",
      "   StreamingMovies_No internet service  StreamingMovies_Yes  \\\n",
      "0                                    0                    0   \n",
      "1                                    0                    0   \n",
      "2                                    0                    0   \n",
      "3                                    0                    0   \n",
      "4                                    0                    0   \n",
      "\n",
      "   Contract_One year  Contract_Two year  PaperlessBilling_Yes  \\\n",
      "0                  0                  0                     1   \n",
      "1                  1                  0                     0   \n",
      "2                  0                  0                     1   \n",
      "3                  1                  0                     0   \n",
      "4                  0                  0                     1   \n",
      "\n",
      "   PaymentMethod_Credit card (automatic)  PaymentMethod_Electronic check  \\\n",
      "0                                      0                               1   \n",
      "1                                      0                               0   \n",
      "2                                      0                               0   \n",
      "3                                      0                               0   \n",
      "4                                      0                               1   \n",
      "\n",
      "   PaymentMethod_Mailed check  \n",
      "0                           0  \n",
      "1                           1  \n",
      "2                           1  \n",
      "3                           0  \n",
      "4                           0  \n",
      "\n",
      "[5 rows x 7073 columns]\n",
      "\n",
      "New shape of the dataframe: (7043, 7073)\n",
      "\n",
      "Original Shape : (7043, 21)\n"
     ]
    }
   ],
   "source": [
    "#1/ Encoding categorical data using one hot encoding\n",
    "\n",
    "#In our case the target variable is 'Churn'\n",
    "df_processed = df.copy()\n",
    "df_processed['Churn'] = df_processed['Churn'].map({'No': 0, 'Yes': 1})\n",
    "\n",
    "# Identify all other categorical columns\n",
    "# As churn is already converted to numeric\n",
    "categorical_cols = df_processed.select_dtypes(include=['object']).columns\n",
    "\n",
    "# Apply one-hot encoding to these columns\n",
    "df_processed = pd.get_dummies(df_processed, columns=categorical_cols, drop_first=True, dtype=int)\n",
    "\n",
    "print(\"--- Data after one-hot encoding ---\")\n",
    "print(df_processed.head())\n",
    "print(f\"\\nNew shape of the dataframe: {df_processed.shape}\")\n",
    "print(f\"\\nOriginal Shape : {df.shape}\")"
   ]
  },
  {
   "cell_type": "code",
   "execution_count": 9,
   "id": "30e6bea7",
   "metadata": {},
   "outputs": [
    {
     "name": "stdout",
     "output_type": "stream",
     "text": [
      "\n",
      "Numerical columns after scaling\n",
      "     tenure  MonthlyCharges  TotalCharges\n",
      "0 -1.277445       -1.160323     -0.994242\n",
      "1  0.066327       -0.259629     -0.173244\n",
      "2 -1.236724       -0.362660     -0.959674\n",
      "3  0.514251       -0.746535     -0.194766\n",
      "4 -1.236724        0.197365     -0.940470\n"
     ]
    }
   ],
   "source": [
    "#2/ Scaling the numerical columns\n",
    "from sklearn.preprocessing import StandardScaler\n",
    "\n",
    "scaler = StandardScaler()\n",
    "\n",
    "# Get the numerical columns\n",
    "numerical_cols = [\"tenure\", \"MonthlyCharges\", \"TotalCharges\"]\n",
    "\n",
    "# Fit and transform the numerical columns\n",
    "# It transforms the data to a standard normal distribution (thereby easy calculations)\n",
    "df_processed[numerical_cols] = scaler.fit_transform(df_processed[numerical_cols])\n",
    "\n",
    "# Printing the numerical\n",
    "print(f\"\\nNumerical columns after scaling\")\n",
    "print(df_processed[numerical_cols].head())\n"
   ]
  },
  {
   "cell_type": "markdown",
   "id": "4e748ae9",
   "metadata": {},
   "source": [
    "*Observations*\n",
    "\n",
    "- We change the range of features such that they are on a comparable scale.\n",
    "- If we do not do scaling, then during prediction, models that rely on distance or gradient updates will behave poorly."
   ]
  },
  {
   "cell_type": "code",
   "execution_count": 10,
   "id": "b6f6ef45",
   "metadata": {},
   "outputs": [],
   "source": [
    "#3/ Check for duplicates\n",
    "\n",
    "# Get the number of duplicate rows\n",
    "# duplicate_rows = df_processed.duplicated().sum()\n",
    "# print(f\"Number of duplicate rows: {duplicate_rows}\")\n",
    "\n",
    "# # If there are duplicate rows, display them\n",
    "# if duplicate_rows > 0:\n",
    "#     print(\"\\nDuplicate rows:\")\n",
    "#     print(df_processed[df_processed.duplicated()])\n",
    "# else:\n",
    "#     print(\"No duplicate rows found.\")"
   ]
  },
  {
   "cell_type": "code",
   "execution_count": 11,
   "id": "58d79fcd",
   "metadata": {},
   "outputs": [
    {
     "name": "stdout",
     "output_type": "stream",
     "text": [
      "Training set's shape : (5634, 7072)\n",
      "Test set's shape : (1409, 7072)\n"
     ]
    }
   ],
   "source": [
    "#4/ Split it into train and test data\n",
    "from sklearn.model_selection import train_test_split\n",
    "\n",
    "#Split the input and target variable\n",
    "X = df_processed.drop('Churn', axis=1)\n",
    "y = df_processed['Churn']\n",
    "\n",
    "#Split into train and test splits\n",
    "X_train, X_test, y_train, y_test = train_test_split(X, y, test_size=0.2, random_state=30, stratify=y)\n",
    "\n",
    "#Print train and test splits\n",
    "print(f\"Training set's shape : {X_train.shape}\")\n",
    "print(f\"Test set's shape : {X_test.shape}\")"
   ]
  },
  {
   "cell_type": "markdown",
   "id": "8bc17b47",
   "metadata": {},
   "source": [
    "***Model Building Process***"
   ]
  },
  {
   "cell_type": "code",
   "execution_count": 12,
   "id": "917860bf",
   "metadata": {},
   "outputs": [
    {
     "name": "stdout",
     "output_type": "stream",
     "text": [
      "\n",
      "--- Logistic Regression Model Evaluation ---\n",
      "Accuracy: 0.78708303761533\n",
      "Confusion Matrix:\n",
      "[[912 123]\n",
      " [177 197]]\n",
      "\n",
      "Classification Report:\n",
      "               precision    recall  f1-score   support\n",
      "\n",
      "Not Churn (0)       0.84      0.88      0.86      1035\n",
      "    Churn (1)       0.62      0.53      0.57       374\n",
      "\n",
      "     accuracy                           0.79      1409\n",
      "    macro avg       0.73      0.70      0.71      1409\n",
      " weighted avg       0.78      0.79      0.78      1409\n",
      "\n"
     ]
    }
   ],
   "source": [
    "# 1/ Building a Logistic Regression Model\n",
    "from sklearn.linear_model import LogisticRegression\n",
    "from sklearn.metrics import classification_report, confusion_matrix, accuracy_score\n",
    "#Create an instance of the Logistic Regression model\n",
    "print(\"\\n--- Logistic Regression Model Evaluation ---\")\n",
    "lr_model = LogisticRegression(max_iter=1000)\n",
    "#Fit the model on the training data\n",
    "lr_model.fit(X_train, y_train)\n",
    "#Predict on the test data\n",
    "y_pred_log = lr_model.predict(X_test)\n",
    "#Evaluate the model\n",
    "print(f\"Accuracy: {accuracy_score(y_test, y_pred_log)}\")\n",
    "print(\"Confusion Matrix:\")\n",
    "print(confusion_matrix(y_test, y_pred_log))\n",
    "print(\"\\nClassification Report:\")\n",
    "print(classification_report(y_test, y_pred_log, target_names=['Not Churn (0)', 'Churn (1)']))\n"
   ]
  },
  {
   "cell_type": "code",
   "execution_count": 13,
   "id": "82494d92",
   "metadata": {},
   "outputs": [
    {
     "name": "stdout",
     "output_type": "stream",
     "text": [
      "\n",
      "--- Random Forest Model Evaluation ---\n",
      "Confusion Matrix:\n",
      "[[939  96]\n",
      " [197 177]]\n",
      "Accuracy: 0.7920511000709723\n",
      "\n",
      "Classification Report:\n",
      "               precision    recall  f1-score   support\n",
      "\n",
      "Not Churn (0)       0.83      0.91      0.87      1035\n",
      "    Churn (1)       0.65      0.47      0.55       374\n",
      "\n",
      "     accuracy                           0.79      1409\n",
      "    macro avg       0.74      0.69      0.71      1409\n",
      " weighted avg       0.78      0.79      0.78      1409\n",
      "\n"
     ]
    }
   ],
   "source": [
    "# 2/ Building a Random Forest Model\n",
    "from sklearn.ensemble import RandomForestClassifier\n",
    "\n",
    "#Create an instance of the Random Forest model\n",
    "rf_model = RandomForestClassifier(n_estimators=100, random_state=30)\n",
    "#Fit the model on the training data\n",
    "rf_model.fit(X_train, y_train)\n",
    "#Predict on the test data\n",
    "y_pred_rf = rf_model.predict(X_test)\n",
    "#Evaluate the model\n",
    "print(\"\\n--- Random Forest Model Evaluation ---\")\n",
    "print(\"Confusion Matrix:\")\n",
    "print(confusion_matrix(y_test, y_pred_rf))\n",
    "print(f\"Accuracy: {accuracy_score(y_test, y_pred_rf)}\")\n",
    "print(\"\\nClassification Report:\")\n",
    "print(classification_report(y_test, y_pred_rf, target_names=['Not Churn (0)', 'Churn (1)']))\n"
   ]
  },
  {
   "cell_type": "markdown",
   "id": "8c4fb263",
   "metadata": {},
   "source": [
    "*Observations*\n",
    "\n",
    "- From the two models that we have trained, we choose the logistic regression model to make predictions\n",
    "- Why??\n",
    "    - Here the cost of being wrong is not symmetrical. So we do not choose based on accuracy\n",
    "    - In this case, the cost of missing a customer who is about to leave (Churn = 1) [False Negative] is more significant than giving someone a discount who is going to stay anyway (Churn = 0) [but the model predicted churn, false positive]\n",
    "    - So, **recall** is a better indicator, because a high recall score indicates, false negatives are really low\n",
    "    - Based on the 2 models' recall score for churn = 1, in log reg is better than random forest model."
   ]
  },
  {
   "cell_type": "markdown",
   "id": "1264ba70",
   "metadata": {},
   "source": [
    "***Insights***"
   ]
  },
  {
   "cell_type": "code",
   "execution_count": null,
   "id": "6cbdddfc",
   "metadata": {},
   "outputs": [
    {
     "name": "stdout",
     "output_type": "stream",
     "text": [
      "Data for dashboard has been exported successfully to 'churn_predictions_for_dashboard.csv'\n"
     ]
    }
   ],
   "source": [
    "#Exporting data\n",
    "#We go with the logistic regression model as it has a better recall score for churn = 1\n",
    "\n",
    "df_results = X_test.copy()\n",
    "df_results['Actual_Churn'] = y_test\n",
    "df_results['Predicted_Churn_LogReg'] = y_pred_log\n",
    "\n",
    "# Add the probability of churning (the probability of the '1' class)\n",
    "df_results['Churn_Probability'] = lr_model.predict_proba(X_test)[:, 1]\n",
    "\n",
    "# Export the results to a CSV file\n",
    "df_results.to_csv('churn_predictions.csv', index=False)\n",
    "\n",
    "print(\"Data for dashboard has been exported\")"
   ]
  }
 ],
 "metadata": {
  "kernelspec": {
   "display_name": ".venv",
   "language": "python",
   "name": "python3"
  },
  "language_info": {
   "codemirror_mode": {
    "name": "ipython",
    "version": 3
   },
   "file_extension": ".py",
   "mimetype": "text/x-python",
   "name": "python",
   "nbconvert_exporter": "python",
   "pygments_lexer": "ipython3",
   "version": "3.12.3"
  }
 },
 "nbformat": 4,
 "nbformat_minor": 5
}
